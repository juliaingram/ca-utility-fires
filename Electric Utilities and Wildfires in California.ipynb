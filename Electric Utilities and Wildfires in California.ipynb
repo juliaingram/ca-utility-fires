{
 "cells": [
  {
   "cell_type": "markdown",
   "id": "cdbfa1a5",
   "metadata": {},
   "source": [
    "# Electric Utilities and Wildfires in California\n",
    "\n",
    "Last week, the California Legislature released a 90-page audit of the California Public Utilities Commission, the entity responsible for overseeing utility companies like Pacific Gas & Electric (PG&E). This project will visualize some of the report's key findings in an interactive scrollytelling format.\n",
    "\n",
    "Report: https://www.auditor.ca.gov/pdfs/reports/2021-117.pdf"
   ]
  },
  {
   "cell_type": "markdown",
   "id": "c9857f09",
   "metadata": {},
   "source": [
    "### Mapping Fires Started by Electrical Equipment\n",
    "\n",
    "The starting point map will be a version of [this map](http://www.auditor.ca.gov/reports/2021-117/supplemental-fire-incident.html) produced by the auditors. It's sourced from incident data published on [CPUC's website](https://www.cpuc.ca.gov/industries-and-topics/wildfires). These data are published in PDFs which need to be parsed."
   ]
  },
  {
   "cell_type": "code",
   "execution_count": 1,
   "id": "52bb797c",
   "metadata": {},
   "outputs": [],
   "source": [
    "#!brew install ghostscript tcl-tk\n",
    "#!pip install \"camelot-py[base]\"\n",
    "#!pip install opencv-python\n",
    "import camelot\n",
    "import pandas as pd\n",
    "import numpy as np\n",
    "\n",
    "pd.set_option('display.max_columns', None)"
   ]
  },
  {
   "cell_type": "code",
   "execution_count": 2,
   "id": "b4d24702",
   "metadata": {},
   "outputs": [],
   "source": [
    "filenames = ['PGE Fire Incident  Report 2020.pdf',\n",
    "             '2014-2019_Consolidated_PGE_Annual_Fire_Report_20220328.xlsx',\n",
    "            'SCE-Fire-Incident-Data-2014-2019.pdf',\n",
    "            'SDGE Fire Incident Report 2020.pdf',\n",
    "            'SDGE-Fire-Incident-Data-2014-2019.pdf',\n",
    "            'SCE Fire Report 2020.pdf'] #not recognized as a table right now, need to revisit\n",
    "    "
   ]
  },
  {
   "cell_type": "code",
   "execution_count": 33,
   "id": "7ba6b38a",
   "metadata": {},
   "outputs": [
    {
     "name": "stdout",
     "output_type": "stream",
     "text": [
      "PGE Fire Incident  Report 2020.pdf\n",
      "2014-2019_Consolidated_PGE_Annual_Fire_Report_20220328.xlsx\n",
      "SCE-Fire-Incident-Data-2014-2019.pdf\n",
      "SDGE Fire Incident Report 2020.pdf\n",
      "SDGE-Fire-Incident-Data-2014-2019.pdf\n",
      "SCE Fire Report 2020.pdf\n"
     ]
    }
   ],
   "source": [
    "fire_tables = []\n",
    "for file in filenames:\n",
    "    print(file)\n",
    "    if '.xlsx' in file:\n",
    "        fires = pd.read_excel('data/' + file, skiprows=1)\n",
    "    elif 'SCE Fire Report' in file:\n",
    "        tables = camelot.read_pdf('data/' + file, flavor='stream')\n",
    "        fires = tables[0].df\n",
    "        fires.columns = fires.iloc[0]\n",
    "        fires = fires[1:]\n",
    "        table_dateyear = fires['Date\\nYear'].str.split('\\n', expand=True)\n",
    "        table_dateyear.columns = ['Date', 'Year']\n",
    "        table_end = fires['Suspected Initiating Event\\nEquipment /Facility Failure\\nContact From Object\\nFacility Contacted\\nContributing Factor'].str.split('\\n', expand=True)\n",
    "        table_end.columns = ['Suspected Initiating Event', 'Contact From Object', 'Facility Contacted/Contributing Factor']\n",
    "        fires = fires.join(table_end).join(table_dateyear)\n",
    "    else:\n",
    "        tables = camelot.read_pdf('data/' + file)\n",
    "        fires = tables[0].df\n",
    "        if '2019' in file:\n",
    "            fires.columns = fires.iloc[2]\n",
    "            fires = fires[3:]\n",
    "        else: \n",
    "            fires.columns = fires.iloc[1]\n",
    "            fires = fires[2:]\n",
    "        fires.reset_index(inplace=True, drop=True)\n",
    "    fires.columns = fires.columns.str.lower().str.replace('\\n', '').str.replace(' ', '_')\n",
    "    fire_tables.append(fires)"
   ]
  },
  {
   "cell_type": "markdown",
   "id": "0dcd4017",
   "metadata": {},
   "source": [
    "#### Cleaning the tables"
   ]
  },
  {
   "cell_type": "code",
   "execution_count": 49,
   "id": "a85d9e01",
   "metadata": {},
   "outputs": [],
   "source": [
    "fire_tables[2].material_at_origin = fire_tables[2].longitude.str.split(' ', expand=True).iloc[:, [1]]\n",
    "fire_tables[2].longitude = fire_tables[2].longitude.str.split(' ', expand=True).iloc[:, [0]]"
   ]
  },
  {
   "cell_type": "code",
   "execution_count": 50,
   "id": "3f669ef2",
   "metadata": {},
   "outputs": [],
   "source": [
    "fire_tables[4].material_at_origin = fire_tables[4].longitude.str.split(' ', expand=True).iloc[:, [1]]\n",
    "fire_tables[4].longitude = fire_tables[4].longitude.str.split(' ', expand=True).iloc[:, [0]]"
   ]
  },
  {
   "cell_type": "code",
   "execution_count": 51,
   "id": "71fc275e",
   "metadata": {},
   "outputs": [],
   "source": [
    "fire_tables[5].rename(columns={'':'longitude', 'longitude_material_at_origin':'material_at_origin'}, inplace=True)"
   ]
  },
  {
   "cell_type": "code",
   "execution_count": 52,
   "id": "d89389e5",
   "metadata": {},
   "outputs": [],
   "source": [
    "#Manually adding in the values for type because they are almost all overhead, simpler than string split\n",
    "fire_tables[5]['type'] = 'Overhead'\n",
    "fire_tables[5].loc[fire_tables[5].circuitfipa_form_name == 'Heers\\nVIPA_2020_1110_1116', 'type'] = 'Underground'"
   ]
  },
  {
   "cell_type": "code",
   "execution_count": 59,
   "id": "e3272b71",
   "metadata": {},
   "outputs": [],
   "source": [
    "fire_tables[5]['size'] = fire_tables[5].suppressed_by.str.split('\\n', expand=True).iloc[:,[0]]"
   ]
  },
  {
   "cell_type": "code",
   "execution_count": 53,
   "id": "050613cc",
   "metadata": {},
   "outputs": [],
   "source": [
    "fire_tables[0].replace('N.A.', np.nan) #replace NA with actual null\n",
    "fire_tables[3].rename(columns={'suspected_ignition_cause': 'suspected_initiating_event'}, inplace=True)"
   ]
  },
  {
   "cell_type": "code",
   "execution_count": 54,
   "id": "8e68fa18",
   "metadata": {},
   "outputs": [],
   "source": [
    "fire_tables[3]['utility_name'] = 'SDG&E'"
   ]
  },
  {
   "cell_type": "code",
   "execution_count": 55,
   "id": "4a65988f",
   "metadata": {},
   "outputs": [],
   "source": [
    "fire_tables[0].rename(columns={'': 'utility_name'}, inplace=True)\n",
    "fire_tables[2].rename(columns={'column1': 'utility_name'}, inplace=True)"
   ]
  },
  {
   "cell_type": "code",
   "execution_count": 60,
   "id": "4f2f7ff2",
   "metadata": {},
   "outputs": [
    {
     "name": "stderr",
     "output_type": "stream",
     "text": [
      "/Users/jmingram/.pyenv/versions/3.10.0/lib/python3.10/site-packages/pandas/core/frame.py:4906: SettingWithCopyWarning: \n",
      "A value is trying to be set on a copy of a slice from a DataFrame\n",
      "\n",
      "See the caveats in the documentation: https://pandas.pydata.org/pandas-docs/stable/user_guide/indexing.html#returning-a-view-versus-a-copy\n",
      "  return super().drop(\n"
     ]
    }
   ],
   "source": [
    "clean_tables = []\n",
    "for table in fire_tables:\n",
    "    clean = table[['utility_name', 'date', 'time', 'latitude', 'longitude', 'material_at_origin',\\\n",
    "                  'size', 'type', 'suspected_initiating_event']]\n",
    "    if len(clean.columns) == 11:\n",
    "        clean.columns = ['utility_name', 'date', 'date2', 'time', 'time2', 'latitude', 'longitude',\\\n",
    "                         'material_at_origin', 'size', 'type', 'suspected_initiating_event']\n",
    "        clean.drop(columns=['date2', 'time2'], inplace=True)\n",
    "    clean_tables.append(clean)\n",
    "    "
   ]
  },
  {
   "cell_type": "code",
   "execution_count": 61,
   "id": "4011355d",
   "metadata": {},
   "outputs": [],
   "source": [
    "all_fires = pd.concat(clean_tables)"
   ]
  },
  {
   "cell_type": "code",
   "execution_count": 62,
   "id": "50c46853",
   "metadata": {},
   "outputs": [],
   "source": [
    "all_fires = all_fires.replace('Not Provided', np.nan).replace('Not Provided -118.72947', np.nan).\\\n",
    "            replace('Not Provided Not Provided', np.nan).replace('Not ProvideNot Provided Not Provided', np.nan).\\\n",
    "            replace('13:04:00 P 33.3391670', '33.3391670').replace('', np.nan).replace('######', np.nan)\n"
   ]
  },
  {
   "cell_type": "code",
   "execution_count": 71,
   "id": "6a4891b8",
   "metadata": {},
   "outputs": [],
   "source": [
    "all_fires.to_csv('electrical_fires.csv', index=False) \n",
    "# manually fix date formats and other abnormalities in excel, fastest way"
   ]
  },
  {
   "cell_type": "code",
   "execution_count": 72,
   "id": "6cbf488e",
   "metadata": {},
   "outputs": [],
   "source": [
    "all_fires = pd.read_csv('electrical_fires.csv')"
   ]
  },
  {
   "cell_type": "code",
   "execution_count": 73,
   "id": "42133d47",
   "metadata": {},
   "outputs": [],
   "source": [
    "all_fires.latitude = all_fires.latitude.astype(float)\n",
    "all_fires.longitude = all_fires.longitude.astype(float)"
   ]
  },
  {
   "cell_type": "code",
   "execution_count": 75,
   "id": "ec7452f0",
   "metadata": {},
   "outputs": [],
   "source": [
    "all_fires.date = pd.to_datetime(all_fires.date, errors='coerce')"
   ]
  },
  {
   "cell_type": "code",
   "execution_count": 76,
   "id": "bc9e8ab4",
   "metadata": {},
   "outputs": [],
   "source": [
    "all_fires.loc[(all_fires.type == 'Overhead') & (all_fires.suspected_initiating_event == 'Contact From Object'),\\\n",
    "             'highlight'] = True"
   ]
  },
  {
   "cell_type": "code",
   "execution_count": 77,
   "id": "103afbaa",
   "metadata": {},
   "outputs": [],
   "source": [
    "all_fires.highlight = all_fires.highlight.fillna(False)"
   ]
  },
  {
   "cell_type": "code",
   "execution_count": 198,
   "id": "3243d293",
   "metadata": {},
   "outputs": [
    {
     "data": {
      "text/plain": [
       "False    0.578947\n",
       "True     0.421053\n",
       "Name: highlight, dtype: float64"
      ]
     },
     "execution_count": 198,
     "metadata": {},
     "output_type": "execute_result"
    }
   ],
   "source": [
    "all_fires[all_fires.year>=2015].highlight.value_counts(normalize=True)"
   ]
  },
  {
   "cell_type": "code",
   "execution_count": 80,
   "id": "26a587e5",
   "metadata": {},
   "outputs": [],
   "source": [
    "all_fires.to_csv('electrical_fires.csv', index=False)"
   ]
  },
  {
   "cell_type": "markdown",
   "id": "d04e69c4",
   "metadata": {},
   "source": [
    "### Run code from here"
   ]
  },
  {
   "cell_type": "code",
   "execution_count": 211,
   "id": "dbef037b",
   "metadata": {},
   "outputs": [],
   "source": [
    "all_fires = pd.read_csv('qgis/electrical_fires.csv')"
   ]
  },
  {
   "cell_type": "code",
   "execution_count": 212,
   "id": "9784e417",
   "metadata": {},
   "outputs": [],
   "source": [
    "all_fires.date = pd.to_datetime(all_fires.date)"
   ]
  },
  {
   "cell_type": "code",
   "execution_count": 213,
   "id": "6f638b7c",
   "metadata": {},
   "outputs": [],
   "source": [
    "all_fires['year'] = all_fires.date.dt.year"
   ]
  },
  {
   "cell_type": "code",
   "execution_count": 142,
   "id": "3b3e9e0b",
   "metadata": {},
   "outputs": [
    {
     "data": {
      "text/plain": [
       "< 0.25 Acres         2160\n",
       ".26 - 9.99 Acres      563\n",
       "10 - 99 Acres          97\n",
       "Structure Only         78\n",
       ">5,000                 13\n",
       "100 - 299 Acres        11\n",
       "1000 - 4999 Acres       9\n",
       "300 - 999 Acres         9\n",
       "100+ Acres              5\n",
       "Unknown                 5\n",
       ">5,500                  2\n",
       "Other                   1\n",
       "Name: size, dtype: int64"
      ]
     },
     "execution_count": 142,
     "metadata": {},
     "output_type": "execute_result"
    }
   ],
   "source": [
    "all_fires['size'].value_counts()"
   ]
  },
  {
   "cell_type": "code",
   "execution_count": 141,
   "id": "a19361a1",
   "metadata": {},
   "outputs": [
    {
     "name": "stderr",
     "output_type": "stream",
     "text": [
      "/var/folders/tx/ryc062z51z1287rjpvrp4jlc0000gn/T/ipykernel_14806/812776659.py:2: FutureWarning: The default value of regex will change from True to False in a future version.\n",
      "/var/folders/tx/ryc062z51z1287rjpvrp4jlc0000gn/T/ipykernel_14806/812776659.py:3: FutureWarning: The default value of regex will change from True to False in a future version.\n",
      "/var/folders/tx/ryc062z51z1287rjpvrp4jlc0000gn/T/ipykernel_14806/812776659.py:4: FutureWarning: The default value of regex will change from True to False in a future version.\n",
      "/var/folders/tx/ryc062z51z1287rjpvrp4jlc0000gn/T/ipykernel_14806/812776659.py:6: FutureWarning: The default value of regex will change from True to False in a future version.\n",
      "/var/folders/tx/ryc062z51z1287rjpvrp4jlc0000gn/T/ipykernel_14806/812776659.py:7: FutureWarning: The default value of regex will change from True to False in a future version.\n",
      "/var/folders/tx/ryc062z51z1287rjpvrp4jlc0000gn/T/ipykernel_14806/812776659.py:9: FutureWarning: The default value of regex will change from True to False in a future version.\n"
     ]
    }
   ],
   "source": [
    "all_fires['size'] = all_fires['size'].str.strip()\n",
    "all_fires['size'] = all_fires['size'].str.replace('Less Than .25 Acres', '< 0.25 Acres')\\\n",
    "                    .str.replace('<0.25', '< 0.25 Acres').str.replace('3 meters - 0.25 Acres', '< 0.25 Acres')\\\n",
    "                    .str.replace('< 3 meters', '< 0.25 Acres').str.replace('1 meter - < 0.25 Acres', '< 0.25 Acres')\\\n",
    "                    .str.replace('< 3 Meters', '< 0.25 Acres').str.replace('< 1 meter', '< 0.25 Acres')\\\n",
    "                    .str.replace('0.25 - 10 Acres', '.26 - 9.99 Acres').replace('10 - 100 Acres','10 - 99 Acres')\\\n",
    "                    .str.replace('.26 - 9.99 AcresUnknown', '.26 - 9.99 Acres').str.replace('.26 - 9.99 AcresUtility', '.26 - 9.99 Acres')\\\n",
    "                    .str.replace('10 - 99 AcresFire Agency', '10 - 99 Acres').str.replace('10 - 100 Acres', '10 - 99 Acres')\\\n",
    "                    .str.replace('0.26-9.99', '.26 - 9.99 Acres').str.replace('1,000-4,999', '1000 - 4999 Acres')\\\n",
    "                    .str.replace('36434', '1000 - 4999 Acres').str.replace('Greater than 5000 Acres', '>5,000')\\\n",
    "                    .str.replace('> 5000 Acres', '>5,500').str.replace('100-300', '100 - 299 Acres')\\\n",
    "                    .str.replace('10 - 99 AcresUnknown', '10 - 99 Acres').str.replace('Structure-only', 'Structure Only')\\\n",
    "                    .str.replace('300-999', '300 - 999 Acres')"
   ]
  },
  {
   "cell_type": "code",
   "execution_count": 143,
   "id": "e304748c",
   "metadata": {},
   "outputs": [],
   "source": [
    "all_fires.to_csv('qgis/electrical_fires.csv', index=False)\n",
    "    "
   ]
  },
  {
   "cell_type": "code",
   "execution_count": 168,
   "id": "76302557",
   "metadata": {},
   "outputs": [],
   "source": [
    "tier2_fires = pd.read_csv('qgis/tier2_fires.csv')\n",
    "tier3_fires = pd.read_csv('qgis/tier3_fires.csv')\n",
    "notier_fires = pd.read_csv('qgis/notier_fires.csv')"
   ]
  },
  {
   "cell_type": "code",
   "execution_count": 187,
   "id": "8a66128e",
   "metadata": {},
   "outputs": [],
   "source": [
    "tier2_fires = tier2_fires[tier2_fires.year>=2015]\n",
    "tier3_fires = tier3_fires[tier3_fires.year>=2015]\n",
    "notier_fires = notier_fires[notier_fires.year>=2015]"
   ]
  },
  {
   "cell_type": "code",
   "execution_count": 188,
   "id": "3e0f6bac",
   "metadata": {},
   "outputs": [
    {
     "data": {
      "text/plain": [
       "< 0.25 Acres         0.624319\n",
       ".26 - 9.99 Acres     0.290381\n",
       "10 - 99 Acres        0.050817\n",
       ">5,000               0.010889\n",
       "Structure Only       0.007260\n",
       "100 - 299 Acres      0.005445\n",
       "300 - 999 Acres      0.005445\n",
       "1000 - 4999 Acres    0.001815\n",
       "Unknown              0.001815\n",
       "Other                0.001815\n",
       "Name: size, dtype: float64"
      ]
     },
     "execution_count": 188,
     "metadata": {},
     "output_type": "execute_result"
    }
   ],
   "source": [
    "tier2_fires['size'].value_counts(normalize=True)"
   ]
  },
  {
   "cell_type": "code",
   "execution_count": 190,
   "id": "9c88cc30",
   "metadata": {},
   "outputs": [
    {
     "data": {
      "text/plain": [
       "< 0.25 Acres         0.721854\n",
       ".26 - 9.99 Acres     0.201987\n",
       "10 - 99 Acres        0.033113\n",
       ">5,000               0.016556\n",
       "100 - 299 Acres      0.006623\n",
       "1000 - 4999 Acres    0.006623\n",
       "Structure Only       0.006623\n",
       ">5,500               0.003311\n",
       "100+ Acres           0.003311\n",
       "Name: size, dtype: float64"
      ]
     },
     "execution_count": 190,
     "metadata": {},
     "output_type": "execute_result"
    }
   ],
   "source": [
    "tier3_fires['size'].value_counts(normalize=True)"
   ]
  },
  {
   "cell_type": "code",
   "execution_count": 191,
   "id": "38816ee5",
   "metadata": {},
   "outputs": [],
   "source": [
    "tier2and3 = pd.concat([tier2_fires, tier3_fires])"
   ]
  },
  {
   "cell_type": "code",
   "execution_count": 192,
   "id": "817573c6",
   "metadata": {},
   "outputs": [
    {
     "data": {
      "text/plain": [
       "< 0.25 Acres         0.658851\n",
       ".26 - 9.99 Acres     0.259086\n",
       "10 - 99 Acres        0.044549\n",
       ">5,000               0.012896\n",
       "Structure Only       0.007034\n",
       "100 - 299 Acres      0.005862\n",
       "1000 - 4999 Acres    0.003517\n",
       "300 - 999 Acres      0.003517\n",
       "Unknown              0.001172\n",
       "Other                0.001172\n",
       ">5,500               0.001172\n",
       "100+ Acres           0.001172\n",
       "Name: size, dtype: float64"
      ]
     },
     "execution_count": 192,
     "metadata": {},
     "output_type": "execute_result"
    }
   ],
   "source": [
    "tier2and3['size'].value_counts(normalize=True)\n"
   ]
  },
  {
   "cell_type": "code",
   "execution_count": 194,
   "id": "0b13d70b",
   "metadata": {},
   "outputs": [
    {
     "data": {
      "text/plain": [
       "< 0.25 Acres         0.763739\n",
       ".26 - 9.99 Acres     0.159207\n",
       "Structure Only       0.032295\n",
       "10 - 99 Acres        0.030595\n",
       "100 - 299 Acres      0.003399\n",
       "300 - 999 Acres      0.002266\n",
       "100+ Acres           0.002266\n",
       "Unknown              0.002266\n",
       "1000 - 4999 Acres    0.002266\n",
       ">5,000               0.001133\n",
       ">5,500               0.000567\n",
       "Name: size, dtype: float64"
      ]
     },
     "execution_count": 194,
     "metadata": {},
     "output_type": "execute_result"
    }
   ],
   "source": [
    "notier_fires['size'].value_counts(normalize=True)\n"
   ]
  },
  {
   "cell_type": "code",
   "execution_count": 196,
   "id": "cf315a30",
   "metadata": {},
   "outputs": [
    {
     "data": {
      "text/plain": [
       "< 0.25 Acres         562\n",
       ".26 - 9.99 Acres     221\n",
       "10 - 99 Acres         38\n",
       ">5,000                11\n",
       "Structure Only         6\n",
       "100 - 299 Acres        5\n",
       "1000 - 4999 Acres      3\n",
       "300 - 999 Acres        3\n",
       "Unknown                1\n",
       "Other                  1\n",
       ">5,500                 1\n",
       "100+ Acres             1\n",
       "Name: size, dtype: int64"
      ]
     },
     "execution_count": 196,
     "metadata": {},
     "output_type": "execute_result"
    }
   ],
   "source": [
    "tier2and3['size'].value_counts()\n"
   ]
  },
  {
   "cell_type": "code",
   "execution_count": 197,
   "id": "3591530f",
   "metadata": {},
   "outputs": [
    {
     "data": {
      "text/plain": [
       "< 0.25 Acres         1348\n",
       ".26 - 9.99 Acres      281\n",
       "Structure Only         57\n",
       "10 - 99 Acres          54\n",
       "100 - 299 Acres         6\n",
       "300 - 999 Acres         4\n",
       "100+ Acres              4\n",
       "Unknown                 4\n",
       "1000 - 4999 Acres       4\n",
       ">5,000                  2\n",
       ">5,500                  1\n",
       "Name: size, dtype: int64"
      ]
     },
     "execution_count": 197,
     "metadata": {},
     "output_type": "execute_result"
    }
   ],
   "source": [
    "notier_fires['size'].value_counts()\n"
   ]
  },
  {
   "cell_type": "code",
   "execution_count": 203,
   "id": "5ebf8f7d",
   "metadata": {},
   "outputs": [],
   "source": [
    "#Calculating how much more likley fires in risk zones are to be greater than .25 acres using odds ratios\n",
    "a = 100-65.9#tier fires more than .25 acres\n",
    "b = 65.9#tier fires less than .25 acres\n",
    "c = 100-76.4#non tier fires more than .25 acres\n",
    "d = 76.4#non tier fires less than .25 acres"
   ]
  },
  {
   "cell_type": "code",
   "execution_count": 204,
   "id": "5c9e7ead",
   "metadata": {},
   "outputs": [
    {
     "data": {
      "text/plain": [
       "1.6751369563540035"
      ]
     },
     "execution_count": 204,
     "metadata": {},
     "output_type": "execute_result"
    }
   ],
   "source": [
    "(a/b) / (c/d)"
   ]
  },
  {
   "cell_type": "markdown",
   "id": "e0977ce0",
   "metadata": {},
   "source": [
    "## Visualization Plan\n",
    "\n",
    "Each bullet represents a scroll\n",
    "\n",
    "- Contextualize with a bar chart showing the % of wildfire acres burned by electric utilities (table 1, page 7)\n",
    "- Overall fire incidents map (see page 21) \n",
    "- Highlight the points casued by contact with foreign objects on overhead lines, which suggest bare lines more susceptible to fire \n",
    "- Add the layers for high risk and extreme risk\n",
    "\n",
    "\n",
    "In text can go something about the hardening and PG&E's report"
   ]
  },
  {
   "cell_type": "code",
   "execution_count": null,
   "id": "e63ad2d3",
   "metadata": {},
   "outputs": [],
   "source": []
  }
 ],
 "metadata": {
  "kernelspec": {
   "display_name": "Python 3 (ipykernel)",
   "language": "python",
   "name": "python3"
  },
  "language_info": {
   "codemirror_mode": {
    "name": "ipython",
    "version": 3
   },
   "file_extension": ".py",
   "mimetype": "text/x-python",
   "name": "python",
   "nbconvert_exporter": "python",
   "pygments_lexer": "ipython3",
   "version": "3.10.0"
  }
 },
 "nbformat": 4,
 "nbformat_minor": 5
}
